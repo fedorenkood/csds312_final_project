{
 "cells": [
  {
   "cell_type": "code",
   "execution_count": 2,
   "id": "0562f770-6e6e-412c-86e2-747ec0da5197",
   "metadata": {},
   "outputs": [],
   "source": [
    "from __future__ import print_function\n",
    "import argparse\n",
    "from math import log10\n",
    "\n",
    "import matplotlib.pyplot as plt\n",
    "import os\n",
    "import torch\n",
    "import torch.nn as nn\n",
    "import torch.optim as optim\n",
    "from torch.utils.data import DataLoader\n",
    "import pandas as pd\n",
    "from collections import defaultdict\n",
    "import time"
   ]
  },
  {
   "cell_type": "code",
   "execution_count": 3,
   "id": "133dd6d4-e8fe-40c1-84c7-d7c211701902",
   "metadata": {},
   "outputs": [],
   "source": [
    "from super_resolution.model import Net, BayesianNet\n",
    "from super_resolution.data import get_training_set, get_test_set"
   ]
  },
  {
   "cell_type": "code",
   "execution_count": 4,
   "id": "77d59b92-83e5-4eda-bac7-f4b1d487d89b",
   "metadata": {},
   "outputs": [],
   "source": [
    "#upscale_factor = 3\n",
    "\n",
    "class store:\n",
    "    def __init__(self, up, b, t, n, l, th, se, ds):\n",
    "        self.upscale_factor = up\n",
    "        self.batchSize = b\n",
    "        self.testBatchSize = t\n",
    "        self.nEpochs = n\n",
    "        self.lr = l\n",
    "        self.threads = th\n",
    "        self.seed = se\n",
    "        self.dataset = ds\n",
    "        \n",
    "upscale_factor = 3\n",
    "batchSize = 4\n",
    "testBatchSize = 100\n",
    "\n",
    "nEpochs = 1\n",
    "lr = .001\n",
    "dataset = \"coco\"\n",
    "threads = 3\n",
    "seed = 123\n",
    "        \n",
    "opt = store(upscale_factor, batchSize, testBatchSize, nEpochs, lr, threads, seed, dataset)\n"
   ]
  },
  {
   "cell_type": "code",
   "execution_count": 5,
   "id": "62a51204-bbe4-43a5-9dfe-ca7492f48274",
   "metadata": {},
   "outputs": [
    {
     "data": {
      "text/plain": [
       "<torch._C.Generator at 0x7f9344080330>"
      ]
     },
     "execution_count": 5,
     "metadata": {},
     "output_type": "execute_result"
    }
   ],
   "source": [
    "# if torch.cuda.is_available():\n",
    "#     device = torch.device(\"cuda\")\n",
    "# else:\n",
    "#     device = torch.device(\"cpu\")\n",
    "device = torch.device(\"cpu\")\n",
    "torch.manual_seed(seed)"
   ]
  },
  {
   "cell_type": "code",
   "execution_count": 6,
   "id": "cd7bd01e-74fc-4adb-9dba-b94f30e681c9",
   "metadata": {},
   "outputs": [
    {
     "name": "stdout",
     "output_type": "stream",
     "text": [
      "===> Loading datasets\n"
     ]
    }
   ],
   "source": [
    "print('===> Loading datasets')\n",
    "train_set = get_training_set(opt.upscale_factor, dataset=opt.dataset)\n",
    "test_set = get_test_set(opt.upscale_factor, dataset=opt.dataset)\n",
    "\n",
    "training_data_loader = DataLoader(dataset=train_set, num_workers=opt.threads, batch_size=opt.batchSize, shuffle=True)\n",
    "testing_data_loader = DataLoader(dataset=test_set, num_workers=opt.threads, batch_size=opt.testBatchSize, shuffle=False)"
   ]
  },
  {
   "cell_type": "code",
   "execution_count": 7,
   "id": "768eae15-0f42-4e7f-ab2c-352bb05f7132",
   "metadata": {},
   "outputs": [
    {
     "name": "stdout",
     "output_type": "stream",
     "text": [
      "===> Building model\n"
     ]
    }
   ],
   "source": [
    "print('===> Building model')\n",
    "priors={\n",
    "    'prior_mu': 0,\n",
    "    'prior_sigma': 0.1,\n",
    "    'posterior_mu_initial': (0, 0.1),  # (mean, std) normal_\n",
    "    'posterior_rho_initial': (-5, 0.1),  # (mean, std) normal_\n",
    "}"
   ]
  },
  {
   "cell_type": "code",
   "execution_count": 8,
   "id": "79a1b576-81fc-4020-90bf-257c1fff393d",
   "metadata": {},
   "outputs": [],
   "source": [
    "\n",
    "import metrics\n",
    "class ELBO(nn.Module):\n",
    "    def __init__(self, train_size):\n",
    "        super(ELBO, self).__init__()\n",
    "        self.train_size = train_size\n",
    "\n",
    "    def forward(self, input, target, kl, beta):\n",
    "        assert not target.requires_grad\n",
    "        log_likelihood = 0.5 * torch.sum((target - input) ** 2)\n",
    "        return log_likelihood * self.train_size + beta * kl\n",
    "\n",
    "def train(model, optimizer, criterion, epoch):\n",
    "    epoch_loss = 0\n",
    "    for iteration, batch in enumerate(training_data_loader, 1):\n",
    "        torch.cuda.empty_cache()\n",
    "        input, target = batch[0].to(device), batch[1].to(device)\n",
    "\n",
    "        optimizer.zero_grad()\n",
    "        kl = 0\n",
    "        if model.__class__.__name__ == 'BayesianNet':\n",
    "            output, kl = model(input)\n",
    "        else:\n",
    "            output = model(input)\n",
    "        if criterion.__class__.__name__ == 'ELBO':\n",
    "            beta = metrics.get_beta(iteration-1, len(training_data_loader), beta_type=0.1, epoch=epoch, num_epochs=opt.nEpochs)\n",
    "            loss = criterion(output, target, kl, beta)\n",
    "        else:\n",
    "            loss = criterion(output, target)\n",
    "        epoch_loss += loss.item()\n",
    "        loss.backward()\n",
    "        optimizer.step()\n",
    "\n",
    "        # print(\"===> Epoch[{}]({}/{}): Loss: {:.4f}\".format(epoch, iteration, len(training_data_loader), loss.item()))\n",
    "\n",
    "    print(\"===> Epoch {} Complete: Avg. Loss: {:.4f}\".format(epoch, epoch_loss / len(training_data_loader)))\n",
    "    return epoch, epoch_loss / len(training_data_loader)\n",
    "\n",
    "\n",
    "def test(model, criterion):\n",
    "    avg_psnr = 0\n",
    "    kl_sum = 0\n",
    "    with torch.no_grad():\n",
    "        for batch in testing_data_loader:\n",
    "            input, target = batch[0].to(device), batch[1].to(device)\n",
    "            if model.__class__.__name__ == 'BayesianNet':\n",
    "                prediction, kl = model(input)\n",
    "                kl_sum += kl\n",
    "            else:\n",
    "                prediction = model(input)\n",
    "            mse = criterion(prediction, target)\n",
    "            psnr = 10 * log10(1 / mse.item())\n",
    "            avg_psnr += psnr\n",
    "    print(\"===> Avg. PSNR: {:.4f} dB\".format(avg_psnr / len(testing_data_loader)))\n",
    "    return avg_psnr / len(testing_data_loader), kl_sum / len(testing_data_loader)\n",
    "\n",
    "\n",
    "def checkpoint(model, epoch, upscale_factor):\n",
    "    ckpt_dir = f'./super_resolution/models/{model.__class__.__name__}/{opt.dataset}'\n",
    "    model_out_path = f\"./super_resolution/models/{model.__class__.__name__}/{opt.dataset}/epoch_{epoch}_upscale_factor_{upscale_factor}_device_{str(device).split(':')[0]}.pth\"\n",
    "\n",
    "    if not os.path.exists(ckpt_dir):\n",
    "        os.makedirs(ckpt_dir, exist_ok=True)\n",
    "    \n",
    "    torch.save(model, model_out_path)\n",
    "    print(\"Checkpoint saved to {}\".format(model_out_path))"
   ]
  },
  {
   "cell_type": "code",
   "execution_count": 9,
   "id": "3bf5e091-6af1-4e6f-93b1-5a81de09534a",
   "metadata": {},
   "outputs": [
    {
     "name": "stdout",
     "output_type": "stream",
     "text": [
      "===> Epoch 1 Complete: Avg. Loss: 0.0089\n",
      "===> Avg. PSNR: 23.3929 dB\n",
      "Checkpoint saved to ./super_resolution/models/BayesianNet/coco/epoch_1_upscale_factor_3_device_cpu.pth\n",
      "===> Epoch 1 Complete: Avg. Loss: 0.0062\n",
      "===> Avg. PSNR: 23.7650 dB\n",
      "Checkpoint saved to ./super_resolution/models/Net/coco/epoch_1_upscale_factor_3_device_cpu.pth\n"
     ]
    }
   ],
   "source": [
    "os.environ[\"KMP_DUPLICATE_LIB_OK\"]=\"TRUE\"\n",
    "\n",
    "\n",
    "for upscale_factor in [opt.upscale_factor]:\n",
    "    models = {\n",
    "        \"Bayesian CNN\": BayesianNet(1, upscale_factor, priors, layer_type='lrt', activation_type='relu').to(device),\n",
    "        \"Classical CNN\": Net(upscale_factor=upscale_factor).to(device)\n",
    "    }\n",
    "    epochs = defaultdict(list)\n",
    "    epoch_losses = defaultdict(list)\n",
    "    avg_psnrs = defaultdict(list)\n",
    "    times = defaultdict(list)\n",
    "    avg_kl = defaultdict(list)\n",
    "    \n",
    "    file_name_epoch_loss = f\"upscale_{upscale_factor}__total_epocs_{opt.nEpochs}_epoch_loss\"\n",
    "    file_name_ave_psnrs = f\"upscale_{upscale_factor}__total_epocs_{opt.nEpochs}_avg_psnrs\"\n",
    "    file_name_times = f\"upscale_{upscale_factor}__total_epocs_{opt.nEpochs}_times\"\n",
    "    file_name_kl_divergence = f\"upscale_{upscale_factor}__total_epocs_{opt.nEpochs}_kl_divergence\"\n",
    "    \n",
    "    for model_name in models.keys():\n",
    "        model = models[model_name]\n",
    "\n",
    "        test_criterion = nn.MSELoss()\n",
    "        # criterion = ELBO(len(training_data_loader))\n",
    "        criterion = nn.MSELoss()\n",
    "\n",
    "        optimizer = optim.Adam(model.parameters(), lr=opt.lr)\n",
    "        \n",
    "        prev_time = time.time()\n",
    "        for epoch in range(1, opt.nEpochs + 1):\n",
    "            # TODO: for stats see train.py\n",
    "            epoch, epoch_loss = train(model, optimizer, criterion, epoch)\n",
    "            avg_psnr, kl_avg = test(model, criterion)\n",
    "            checkpoint(model, epoch, upscale_factor)\n",
    "            \n",
    "            epochs[model_name].append(epoch)\n",
    "            epoch_losses[model_name].append(epoch_loss)\n",
    "            avg_psnrs[model_name].append(avg_psnr)\n",
    "            avg_kl[model_name].append(float(kl_avg))\n",
    "            \n",
    "            times[model_name].append(time.time() - prev_time)\n",
    "            prev_time = time.time()\n",
    "            \n",
    "    result_dir = f'./stats/{opt.dataset}'\n",
    "    if not os.path.exists(result_dir):\n",
    "        os.makedirs(result_dir, exist_ok=True)\n",
    "        \n",
    "    epoch_losses_df = pd.DataFrame.from_dict(epoch_losses)\n",
    "    epoch_losses_df[\"epoch\"] = epoch_losses_df.index + 1\n",
    "    avg_psnrs_df = pd.DataFrame.from_dict(avg_psnrs)\n",
    "    avg_psnrs_df[\"epoch\"] = epoch_losses_df.index + 1\n",
    "    \n",
    "    kl_avg_df = pd.DataFrame.from_dict(avg_kl)\n",
    "    kl_avg_df[\"epoch\"] = epoch_losses_df.index + 1\n",
    "    \n",
    "    times_df = pd.DataFrame.from_dict(times)\n",
    "    times[\"epoch\"] = epoch_losses_df.index + 1\n",
    "    \n",
    "    epoch_losses_df.to_csv(f\"./stats/{opt.dataset}/{file_name_epoch_loss}.csv\")\n",
    "    avg_psnrs_df.to_csv(f\"./stats/{opt.dataset}/{file_name_ave_psnrs}.csv\")\n",
    "    times_df.to_csv(f\"./stats/{opt.dataset}/{file_name_times}.csv\")\n",
    "    kl_avg_df.to_csv(f\"./stats/{opt.dataset}/{file_name_kl_divergence}.csv\")"
   ]
  },
  {
   "cell_type": "code",
   "execution_count": 10,
   "id": "cc5d7ff7-bbc8-4b92-89d3-166b3a7d3f8f",
   "metadata": {},
   "outputs": [
    {
     "data": {
      "image/png": "[encoded data removed]",
      "text/plain": [
       "<Figure size 720x504 with 1 Axes>"
      ]
     },
     "metadata": {
      "needs_background": "light"
     },
     "output_type": "display_data"
    }
   ],
   "source": [
    "# loss plots\n",
    "plt.figure(figsize=(10, 7))\n",
    "plt.title(f\"Training Loss: Bayesian CNN vs Classical CNN\")\n",
    "\n",
    "for model_name in epochs:\n",
    "    plt.plot(epochs[model_name], epoch_losses[model_name], label=model_name)\n",
    "# plt.plot(val_loss, color='red', label='validataion loss')\n",
    "\n",
    "plt.xlabel('Epochs')\n",
    "plt.ylabel('Loss')\n",
    "plt.legend()\n",
    "plt.show()\n",
    "#plt.savefig(f'./graphs/loss_model_{model.__class__.__name__}_epochs_{opt.nEpochs}_upscale_factor_{upscale_factor}.png')"
   ]
  },
  {
   "cell_type": "code",
   "execution_count": 11,
   "id": "a8e53d67-385d-4ff3-9e66-369ed8f7feb6",
   "metadata": {},
   "outputs": [
    {
     "data": {
      "image/png": "[encoded data removed]",
      "text/plain": [
       "<Figure size 720x504 with 1 Axes>"
      ]
     },
     "metadata": {
      "needs_background": "light"
     },
     "output_type": "display_data"
    }
   ],
   "source": [
    "# loss plots\n",
    "plt.figure(figsize=(10, 7))\n",
    "plt.title(f\"Training PSNR: Bayesian CNN vs Classical CNN\")\n",
    "\n",
    "for model_name in epochs:\n",
    "    plt.plot(epochs[model_name], avg_psnrs[model_name], label=model_name)\n",
    "\n",
    "# plt.plot(val_psnr, color='blue', label='validataion PSNR dB')\n",
    "plt.xlabel('Epochs')\n",
    "plt.ylabel('PSNR (dB)')\n",
    "plt.legend()\n",
    "plt.show()    \n",
    "\n"
   ]
  }
 ],
 "metadata": {
  "kernelspec": {
   "display_name": "Python 3 (ipykernel)",
   "language": "python",
   "name": "python3"
  },
  "language_info": {
   "codemirror_mode": {
    "name": "ipython",
    "version": 3
   },
   "file_extension": ".py",
   "mimetype": "text/x-python",
   "name": "python",
   "nbconvert_exporter": "python",
   "pygments_lexer": "ipython3",
   "version": "3.9.7"
  },
  "vscode": {
   "interpreter": {
    "hash": "0ea82884a27f5fd68f2d0e6437ecd7f7774c07b36e85e4f532cb130b6a754894"
   }
  }
 },
 "nbformat": 4,
 "nbformat_minor": 5
}
