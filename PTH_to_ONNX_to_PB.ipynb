{
 "nbformat": 4,
 "nbformat_minor": 0,
 "metadata": {
  "colab": {
   "provenance": []
  },
  "kernelspec": {
   "name": "python3",
   "display_name": "Python 3"
  },
  "language_info": {
   "name": "python"
  },
  "accelerator": "GPU",
  "gpuClass": "standard"
 },
 "cells": [
  {
   "cell_type": "code",
   "execution_count": null,
   "metadata": {
    "colab": {
     "base_uri": "https://localhost:8080/"
    },
    "id": "81-wAFfYwude",
    "outputId": "8ad885dd-9b63-402b-d403-2522875c2de0",
    "pycharm": {
     "name": "#%%\n"
    }
   },
   "outputs": [
    {
     "output_type": "stream",
     "name": "stdout",
     "text": [
      "Mounted at /content/drive\n"
     ]
    }
   ],
   "source": [
    "from google.colab import drive, files\n",
    "\n",
    "drive.mount('/content/drive', force_remount=True)"
   ]
  },
  {
   "cell_type": "code",
   "source": [
    "%cd /content/drive/'My Drive'/440-Adv-ML-Project/CSDS440-f22-P2/code/models\n",
    "%pwd"
   ],
   "metadata": {
    "colab": {
     "base_uri": "https://localhost:8080/",
     "height": 52
    },
    "id": "EGLl-eOOwvMV",
    "outputId": "a4d1b96f-b278-4441-d0a7-5f3baafc1a65",
    "pycharm": {
     "name": "#%%\n"
    }
   },
   "execution_count": null,
   "outputs": [
    {
     "output_type": "stream",
     "name": "stdout",
     "text": [
      "/content/drive/My Drive/440-Adv-ML-Project/CSDS440-f22-P2/code/models\n"
     ]
    },
    {
     "output_type": "execute_result",
     "data": {
      "text/plain": [
       "'/content/drive/My Drive/440-Adv-ML-Project/CSDS440-f22-P2/code/models'"
      ],
      "application/vnd.google.colaboratory.intrinsic+json": {
       "type": "string"
      }
     },
     "metadata": {},
     "execution_count": 2
    }
   ]
  },
  {
   "cell_type": "code",
   "source": [
    "import torch\n",
    "from torchvision import datasets\n",
    "from torchvision import transforms\n",
    "\n",
    "from resnet import Resnet18"
   ],
   "metadata": {
    "id": "pWDlQ3CAxSyV",
    "pycharm": {
     "name": "#%%\n"
    }
   },
   "execution_count": null,
   "outputs": []
  },
  {
   "cell_type": "code",
   "source": [
    "# get model\n",
    "normalize = transforms.Normalize(\n",
    "    mean=[0.4914, 0.4822, 0.4465],\n",
    "    std=[0.2023, 0.1994, 0.2010],\n",
    ")\n",
    "\n",
    "# define transforms\n",
    "transform = transforms.Compose([\n",
    "    transforms.Resize((224, 224)),\n",
    "    transforms.ToTensor(),\n",
    "    normalize,\n",
    "])\n",
    "\n",
    "dataset = datasets.CIFAR10(\n",
    "    root='./data', train=False,\n",
    "    download=True, transform=transform,\n",
    ")"
   ],
   "metadata": {
    "colab": {
     "base_uri": "https://localhost:8080/"
    },
    "id": "HGXFEmJjw5Er",
    "outputId": "4c9608bd-9196-4462-a1e6-087a49920290",
    "pycharm": {
     "name": "#%%\n"
    }
   },
   "execution_count": null,
   "outputs": [
    {
     "output_type": "stream",
     "name": "stdout",
     "text": [
      "Files already downloaded and verified\n"
     ]
    }
   ]
  },
  {
   "cell_type": "code",
   "source": [
    "model = Resnet18(10)\n",
    "# model = Resnet20()\n",
    "# model = Resnet34()\n",
    "model.load_state_dict(torch.load('./saved_models/Resnet18_CIFAR10.pth'))"
   ],
   "metadata": {
    "colab": {
     "base_uri": "https://localhost:8080/"
    },
    "id": "hT7b4Y4dw6S1",
    "outputId": "38220870-2d14-4305-f8c2-fce8e8b272a0",
    "pycharm": {
     "name": "#%%\n"
    }
   },
   "execution_count": null,
   "outputs": [
    {
     "output_type": "execute_result",
     "data": {
      "text/plain": [
       "<All keys matched successfully>"
      ]
     },
     "metadata": {},
     "execution_count": 5
    }
   ]
  },
  {
   "cell_type": "code",
   "source": [
    "! pip install onnx"
   ],
   "metadata": {
    "colab": {
     "base_uri": "https://localhost:8080/"
    },
    "id": "-ii1ctkSzNWC",
    "outputId": "7ffd7045-cba1-43d4-99a9-f06a42712860",
    "pycharm": {
     "name": "#%%\n"
    }
   },
   "execution_count": null,
   "outputs": [
    {
     "output_type": "stream",
     "name": "stdout",
     "text": [
      "Looking in indexes: https://pypi.org/simple, https://us-python.pkg.dev/colab-wheels/public/simple/\n",
      "Collecting onnx\n",
      "  Downloading onnx-1.12.0-cp38-cp38-manylinux_2_17_x86_64.manylinux2014_x86_64.whl (13.1 MB)\n",
      "\u001B[K     |████████████████████████████████| 13.1 MB 6.7 MB/s \n",
      "\u001B[?25hRequirement already satisfied: protobuf<=3.20.1,>=3.12.2 in /usr/local/lib/python3.8/dist-packages (from onnx) (3.19.6)\n",
      "Requirement already satisfied: typing-extensions>=3.6.2.1 in /usr/local/lib/python3.8/dist-packages (from onnx) (4.1.1)\n",
      "Requirement already satisfied: numpy>=1.16.6 in /usr/local/lib/python3.8/dist-packages (from onnx) (1.21.6)\n",
      "Installing collected packages: onnx\n",
      "Successfully installed onnx-1.12.0\n"
     ]
    }
   ]
  },
  {
   "cell_type": "code",
   "source": [
    "# set the model to inference mode -- IMPORTANT!!\n",
    "model.eval()\n",
    "\n",
    "# dummy input tensor\n",
    "dummy_input = torch.randn(1, *[3,224,224], requires_grad=True)\n",
    "\n",
    "# Export the model\n",
    "torch.onnx.export(model, dummy_input, './saved_models/Resnet18_CIFAR10.onnx', export_params=True, opset_version=10, do_constant_folding=True)\n",
    "\n",
    "print(\" \")\n",
    "print('Model has been converted to ONNX')"
   ],
   "metadata": {
    "colab": {
     "base_uri": "https://localhost:8080/"
    },
    "id": "OcmQRF9hyEHn",
    "outputId": "4302136a-651d-49de-edfa-3f28a5809447",
    "pycharm": {
     "name": "#%%\n"
    }
   },
   "execution_count": null,
   "outputs": [
    {
     "output_type": "stream",
     "name": "stdout",
     "text": [
      " \n",
      "Model has been converted to ONNX\n"
     ]
    }
   ]
  },
  {
   "cell_type": "code",
   "source": [
    "%ls saved_models/"
   ],
   "metadata": {
    "colab": {
     "base_uri": "https://localhost:8080/"
    },
    "id": "93d8LIkn4MOA",
    "outputId": "2c40b17d-f1ad-4b74-ca0b-3ca72e33c513",
    "pycharm": {
     "name": "#%%\n"
    }
   },
   "execution_count": null,
   "outputs": [
    {
     "output_type": "stream",
     "name": "stdout",
     "text": [
      "Resnet18_CIFAR10.onnx  Resnet18_CIFAR10.pth\n"
     ]
    }
   ]
  },
  {
   "cell_type": "code",
   "source": [
    "!pip install git+https://github.com/onnx/onnx-tensorflow.git"
   ],
   "metadata": {
    "colab": {
     "base_uri": "https://localhost:8080/"
    },
    "id": "CkE-PMvK6uiT",
    "outputId": "fd5a94f0-3ca6-4df2-c125-f1693e675ccb",
    "pycharm": {
     "name": "#%%\n"
    }
   },
   "execution_count": null,
   "outputs": [
    {
     "output_type": "stream",
     "name": "stdout",
     "text": [
      "Looking in indexes: https://pypi.org/simple, https://us-python.pkg.dev/colab-wheels/public/simple/\n",
      "Collecting git+https://github.com/onnx/onnx-tensorflow.git\n",
      "  Cloning https://github.com/onnx/onnx-tensorflow.git to /tmp/pip-req-build-u5b6_3u1\n",
      "  Running command git clone -q https://github.com/onnx/onnx-tensorflow.git /tmp/pip-req-build-u5b6_3u1\n",
      "Requirement already satisfied: onnx>=1.10.2 in /usr/local/lib/python3.8/dist-packages (from onnx-tf==1.10.0) (1.12.0)\n",
      "Requirement already satisfied: PyYAML in /usr/local/lib/python3.8/dist-packages (from onnx-tf==1.10.0) (6.0)\n",
      "Collecting tensorflow_addons\n",
      "  Downloading tensorflow_addons-0.18.0-cp38-cp38-manylinux_2_17_x86_64.manylinux2014_x86_64.whl (1.1 MB)\n",
      "\u001B[K     |████████████████████████████████| 1.1 MB 6.8 MB/s \n",
      "\u001B[?25hRequirement already satisfied: tensorflow_probability in /usr/local/lib/python3.8/dist-packages (from onnx-tf==1.10.0) (0.17.0)\n",
      "Requirement already satisfied: typing-extensions>=3.6.2.1 in /usr/local/lib/python3.8/dist-packages (from onnx>=1.10.2->onnx-tf==1.10.0) (4.1.1)\n",
      "Requirement already satisfied: protobuf<=3.20.1,>=3.12.2 in /usr/local/lib/python3.8/dist-packages (from onnx>=1.10.2->onnx-tf==1.10.0) (3.19.6)\n",
      "Requirement already satisfied: numpy>=1.16.6 in /usr/local/lib/python3.8/dist-packages (from onnx>=1.10.2->onnx-tf==1.10.0) (1.21.6)\n",
      "Requirement already satisfied: typeguard>=2.7 in /usr/local/lib/python3.8/dist-packages (from tensorflow_addons->onnx-tf==1.10.0) (2.7.1)\n",
      "Requirement already satisfied: packaging in /usr/local/lib/python3.8/dist-packages (from tensorflow_addons->onnx-tf==1.10.0) (21.3)\n",
      "Requirement already satisfied: pyparsing!=3.0.5,>=2.0.2 in /usr/local/lib/python3.8/dist-packages (from packaging->tensorflow_addons->onnx-tf==1.10.0) (3.0.9)\n",
      "Requirement already satisfied: six>=1.10.0 in /usr/local/lib/python3.8/dist-packages (from tensorflow_probability->onnx-tf==1.10.0) (1.15.0)\n",
      "Requirement already satisfied: cloudpickle>=1.3 in /usr/local/lib/python3.8/dist-packages (from tensorflow_probability->onnx-tf==1.10.0) (1.5.0)\n",
      "Requirement already satisfied: decorator in /usr/local/lib/python3.8/dist-packages (from tensorflow_probability->onnx-tf==1.10.0) (4.4.2)\n",
      "Requirement already satisfied: gast>=0.3.2 in /usr/local/lib/python3.8/dist-packages (from tensorflow_probability->onnx-tf==1.10.0) (0.4.0)\n",
      "Requirement already satisfied: absl-py in /usr/local/lib/python3.8/dist-packages (from tensorflow_probability->onnx-tf==1.10.0) (1.3.0)\n",
      "Requirement already satisfied: dm-tree in /usr/local/lib/python3.8/dist-packages (from tensorflow_probability->onnx-tf==1.10.0) (0.1.7)\n",
      "Building wheels for collected packages: onnx-tf\n",
      "  Building wheel for onnx-tf (setup.py) ... \u001B[?25l\u001B[?25hdone\n",
      "  Created wheel for onnx-tf: filename=onnx_tf-1.10.0-py3-none-any.whl size=226663 sha256=288720702366707be7662665c8eb2a9fb7eacecc8bdc40bf94680a1ec5e14a61\n",
      "  Stored in directory: /tmp/pip-ephem-wheel-cache-uszjs2ft/wheels/e9/b7/67/8abcf50ca14ef4375302d30abf9f4242e06be09b829f5fd307\n",
      "Successfully built onnx-tf\n",
      "Installing collected packages: tensorflow-addons, onnx-tf\n",
      "Successfully installed onnx-tf-1.10.0 tensorflow-addons-0.18.0\n"
     ]
    }
   ]
  },
  {
   "cell_type": "code",
   "source": [
    "import onnx\n",
    "from tensorflow.python.tools.import_pb_to_tensorboard import import_to_tensorboard\n",
    "from onnx_tf.backend import prepare\n",
    "onnx_model = onnx.load(\"./saved_models/Resnet18_CIFAR10.onnx\")\n",
    "tf_rep = prepare(onnx_model)\n",
    "tf_rep.export_graph(\"./saved_models/Resnet18_CIFAR10.pb\")"
   ],
   "metadata": {
    "colab": {
     "base_uri": "https://localhost:8080/"
    },
    "id": "xuc1n6rd6xLL",
    "outputId": "ebce7412-8213-4ef5-b1de-f97cc25bef86",
    "pycharm": {
     "name": "#%%\n"
    }
   },
   "execution_count": null,
   "outputs": [
    {
     "output_type": "stream",
     "name": "stderr",
     "text": [
      "WARNING:absl:Function `__call__` contains input name(s) input.1 with unsupported characters which will be renamed to input_1 in the SavedModel.\n",
      "WARNING:absl:Found untraced functions such as gen_tensor_dict while saving (showing 1 of 1). These functions will not be directly callable after loading.\n"
     ]
    }
   ]
  },
  {
   "cell_type": "code",
   "source": [
    "%ls ./saved_models"
   ],
   "metadata": {
    "colab": {
     "base_uri": "https://localhost:8080/"
    },
    "id": "Hwi0gHkf8Wm9",
    "outputId": "788dc0a0-64d8-4d54-91c6-4ca3ac8c7da3",
    "pycharm": {
     "name": "#%%\n"
    }
   },
   "execution_count": null,
   "outputs": [
    {
     "output_type": "stream",
     "name": "stdout",
     "text": [
      "Resnet18_CIFAR10.onnx  \u001B[0m\u001B[01;34mResnet18_CIFAR10.pb\u001B[0m/  Resnet18_CIFAR10.pth\n"
     ]
    }
   ]
  }
 ]
}